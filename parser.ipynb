{
  "cells": [
    {
      "cell_type": "code",
      "execution_count": null,
      "id": "feb2a52b",
      "metadata": {
        "colab": {
          "base_uri": "https://localhost:8080/"
        },
        "id": "feb2a52b",
        "outputId": "bf26c81a-5345-45eb-cc67-fe08e37fdf3c"
      },
      "outputs": [
        {
          "output_type": "stream",
          "name": "stdout",
          "text": [
            "200\n",
            "Mounted at /content/drive\n"
          ]
        }
      ],
      "source": [
        "import requests\n",
        "from bs4 import BeautifulSoup as bs\n",
        "import pandas as pd\n",
        "URL_TEMPLATE = \"https://delta-eco.ru/problemy/klimaticheskie-zony-i-poyasa-rossii-karta-zon-raspolozhenie-tablitsy.html\"\n",
        "r = requests.get(URL_TEMPLATE)\n",
        "print(r.status_code)\n",
        "from google.colab import drive\n",
        "drive.mount('/content/drive')"
      ]
    },
    {
      "cell_type": "code",
      "execution_count": null,
      "id": "26ed822d",
      "metadata": {
        "id": "26ed822d"
      },
      "outputs": [],
      "source": [
        "text = r.text\n"
      ]
    },
    {
      "cell_type": "code",
      "execution_count": null,
      "id": "ad930fec",
      "metadata": {
        "id": "ad930fec"
      },
      "outputs": [],
      "source": [
        "my_text = ''\n",
        "for i in text.split('<table>'):\n",
        "    if '1 ЗОНА' in i:\n",
        "        my_text = i"
      ]
    },
    {
      "cell_type": "code",
      "execution_count": null,
      "id": "de783212",
      "metadata": {
        "colab": {
          "base_uri": "https://localhost:8080/"
        },
        "id": "de783212",
        "outputId": "5710b9d9-ea4a-4925-c4c7-c306e97462cf"
      },
      "outputs": [
        {
          "output_type": "stream",
          "name": "stdout",
          "text": [
            "{'1 ЗОНА': 'Астраханская область Белгородская область Волгоградская область Калининградская область Республика Калмыкия Ростовская область Ставропольский край Республика Адыгея Республика Дагестан Республика Ингушетия Кабардино-Балкарская Республика\\xa0Карачаево-Черкесская Республика\\xa0Республика Северная Осетия – Алания Чеченская Республика Краснодарский край', '2\\xa0ЗОНА': 'Брянская область Владимирская область Воронежская область Ивановская область Калужская область Курская область Ленинградская область Липецкая область Республика Марий Эл Республика Мордовия Московская область Нижегородская область Новгородская область Орловская область Пензенская область Приморский край Псковская область\\xa0Рязанская область Самарская область Саратовская область Смоленская область Тамбовская область Тверская область Тульская область Ульяновская область Чувашская республика Ярославская область', '3\\xa0ЗОНА': 'Республика Алтай Амурская область Республика Башкортостан Республика Бурятия Вологодская область Иркутская область\\xa0(кроме районов, перечисленных ниже) Республика Карелия Кемеровская область Кировская область Костромская область Красноярский край\\xa0(кроме районов, перечисленных ниже) Курганская область Новосибирская область Омская область Оренбургская область Пермская область Сахалинская область\\xa0(кроме районов, перечисленных ниже) Свердловская область Республика Татарстан Томская область\\xa0(кроме районов, перечисленных ниже) Республика Тыва Тюменская область\\xa0(кроме районов, перечисленных ниже) Удмуртская республика Хабаровский край\\xa0(кроме районов, перечисленных ниже) Челябинская область Читинская область Республика Хакасия Забайкальский край', '4\\xa0ЗОНА': 'Архангельская область (кроме районов, расположенных за Полярным кругом) Иркутская область\\xa0(районы: Бодайбинский, Катангский, Киренский, Мамско-Чуйский) Камчатская область Республика Карелия\\xa0(севернее 63°северной широты) Республика Коми\\xa0(районы, расположенные южнее Полярного круга) Красноярский край\\xa0(территории Эвенского автономного округа\\xa0и Туруханского района, расположенного южнее Полярного круга) Курильские Острова\\xa0Магаданская область\\xa0(кроме Чукотского автономного округа\\xa0и районов,\\xa0перечисленных ниже) Мурманская область Республика Саха (Якутия)\\xa0(кроме Оймяконского\\xa0района и районов, расположенных севернее Полярного круга)\\xa0Сахалинская область\\xa0(районы: Ногликский, Охинский)\\xa0Томская область\\xa0(районы: Бакчарский, Верхнекетский, Кривошеинский, Молчановский, Парабельский, Чаинский и территории Александровского\\xa0и Каргасокского районов, расположенные южнее 60°северной широты)\\xa0Тюменская область\\xa0(районы Ханты-Мансийского\\xa0и Ямало-Ненецкого автономных кругов,\\xa0кроме районов, расположенных севернее 60°северной широты) Хабаровский край\\xa0(районы: Аяно-Майский, Николаевский, Охотский,им.Полины Осипенко,\\xa0Тугуро-Чумиканский, Ульчский)', 'ОСОБАЯ\\xa0ЗОНА': 'Магаданская область\\xa0(районы: Омсукчанский, Ольский, Северо-Эвенский, Среднеканский, Сусуманский, Тенькинский, Хасынский, Ягоднинский)\\xa0Республика Саха (Якутия)\\xa0(Оймяконский район) Территория, расположенная севернее Полярного круга\\xa0(кроме Мурманской области) Томская область\\xa0(территории Александровского и Каргасокского районов, расположенные севернее 60°северной широты) Тюменская область\\xa0(районы Ханты-Мансийского и Ямало-Ненецкого автономных округов, расположенные севернее 60°северной широты)\\xa0Чукотский автономный округ Ненецкий автономный округ'}\n"
          ]
        }
      ],
      "source": [
        "bs = bs(my_text)\n",
        "\n",
        "results = {}\n",
        "for row in bs.findAll('tr'):\n",
        "    aux = row.findAll('td')\n",
        "    results[aux[0].string] = aux[1].string\n",
        "\n",
        "print(results)"
      ]
    },
    {
      "cell_type": "code",
      "execution_count": null,
      "id": "acc5e768",
      "metadata": {
        "id": "acc5e768"
      },
      "outputs": [],
      "source": [
        "dict_with_data = {}\n",
        "for i in list(results.keys()):\n",
        "    if 'ОСОБАЯ' not in i:\n",
        "        \n",
        "        dict_with_data[i[0]] = results[i].replace('\\xa0','')\n",
        "    else:\n",
        "        dict_with_data[5] = results[i].replace('\\xa0','')"
      ]
    },
    {
      "cell_type": "code",
      "execution_count": null,
      "id": "cdbf2a31",
      "metadata": {
        "colab": {
          "base_uri": "https://localhost:8080/"
        },
        "id": "cdbf2a31",
        "outputId": "1eb77438-a4c5-478e-ba8c-7be18dbb1c7e"
      },
      "outputs": [
        {
          "output_type": "execute_result",
          "data": {
            "text/plain": [
              "{'1': 'Астраханская область Белгородская область Волгоградская область Калининградская область Республика Калмыкия Ростовская область Ставропольский край Республика Адыгея Республика Дагестан Республика Ингушетия Кабардино-Балкарская РеспубликаКарачаево-Черкесская РеспубликаРеспублика Северная Осетия – Алания Чеченская Республика Краснодарский край',\n",
              " '2': 'Брянская область Владимирская область Воронежская область Ивановская область Калужская область Курская область Ленинградская область Липецкая область Республика Марий Эл Республика Мордовия Московская область Нижегородская область Новгородская область Орловская область Пензенская область Приморский край Псковская областьРязанская область Самарская область Саратовская область Смоленская область Тамбовская область Тверская область Тульская область Ульяновская область Чувашская республика Ярославская область',\n",
              " '3': 'Республика Алтай Амурская область Республика Башкортостан Республика Бурятия Вологодская область Иркутская область(кроме районов, перечисленных ниже) Республика Карелия Кемеровская область Кировская область Костромская область Красноярский край(кроме районов, перечисленных ниже) Курганская область Новосибирская область Омская область Оренбургская область Пермская область Сахалинская область(кроме районов, перечисленных ниже) Свердловская область Республика Татарстан Томская область(кроме районов, перечисленных ниже) Республика Тыва Тюменская область(кроме районов, перечисленных ниже) Удмуртская республика Хабаровский край(кроме районов, перечисленных ниже) Челябинская область Читинская область Республика Хакасия Забайкальский край',\n",
              " '4': 'Архангельская область (кроме районов, расположенных за Полярным кругом) Иркутская область(районы: Бодайбинский, Катангский, Киренский, Мамско-Чуйский) Камчатская область Республика Карелия(севернее 63°северной широты) Республика Коми(районы, расположенные южнее Полярного круга) Красноярский край(территории Эвенского автономного округаи Туруханского района, расположенного южнее Полярного круга) Курильские ОстроваМагаданская область(кроме Чукотского автономного округаи районов,перечисленных ниже) Мурманская область Республика Саха (Якутия)(кроме Оймяконскогорайона и районов, расположенных севернее Полярного круга)Сахалинская область(районы: Ногликский, Охинский)Томская область(районы: Бакчарский, Верхнекетский, Кривошеинский, Молчановский, Парабельский, Чаинский и территории Александровскогои Каргасокского районов, расположенные южнее 60°северной широты)Тюменская область(районы Ханты-Мансийскогои Ямало-Ненецкого автономных кругов,кроме районов, расположенных севернее 60°северной широты) Хабаровский край(районы: Аяно-Майский, Николаевский, Охотский,им.Полины Осипенко,Тугуро-Чумиканский, Ульчский)',\n",
              " 5: 'Магаданская область(районы: Омсукчанский, Ольский, Северо-Эвенский, Среднеканский, Сусуманский, Тенькинский, Хасынский, Ягоднинский)Республика Саха (Якутия)(Оймяконский район) Территория, расположенная севернее Полярного круга(кроме Мурманской области) Томская область(территории Александровского и Каргасокского районов, расположенные севернее 60°северной широты) Тюменская область(районы Ханты-Мансийского и Ямало-Ненецкого автономных округов, расположенные севернее 60°северной широты)Чукотский автономный округ Ненецкий автономный округ'}"
            ]
          },
          "metadata": {},
          "execution_count": 15
        }
      ],
      "source": [
        "dict_with_data"
      ]
    },
    {
      "cell_type": "code",
      "source": [
        "import pandas as pd"
      ],
      "metadata": {
        "id": "3FNfvQGSzkPL"
      },
      "id": "3FNfvQGSzkPL",
      "execution_count": null,
      "outputs": []
    },
    {
      "cell_type": "code",
      "execution_count": null,
      "id": "3e828cfc",
      "metadata": {
        "colab": {
          "base_uri": "https://localhost:8080/",
          "height": 418
        },
        "id": "3e828cfc",
        "outputId": "8be55b9f-9270-4151-b089-3734363e76a4"
      },
      "outputs": [
        {
          "output_type": "stream",
          "name": "stderr",
          "text": [
            "/usr/local/lib/python3.7/dist-packages/openpyxl/reader/workbook.py:88: UserWarning: File contains an invalid specification for Sheet1. This will be removed\n",
            "  warn(msg)\n"
          ]
        },
        {
          "output_type": "error",
          "ename": "ValueError",
          "evalue": "ignored",
          "traceback": [
            "\u001b[0;31m---------------------------------------------------------------------------\u001b[0m",
            "\u001b[0;31mValueError\u001b[0m                                Traceback (most recent call last)",
            "\u001b[0;32m<ipython-input-27-537a2a30290f>\u001b[0m in \u001b[0;36m<module>\u001b[0;34m()\u001b[0m\n\u001b[1;32m      1\u001b[0m \u001b[0;31m#data = pd.read_excel('data.xls')\u001b[0m\u001b[0;34m\u001b[0m\u001b[0;34m\u001b[0m\u001b[0;34m\u001b[0m\u001b[0m\n\u001b[0;32m----> 2\u001b[0;31m \u001b[0mdata\u001b[0m \u001b[0;34m=\u001b[0m \u001b[0mpd\u001b[0m\u001b[0;34m.\u001b[0m\u001b[0mread_excel\u001b[0m\u001b[0;34m(\u001b[0m\u001b[0;34m'/content/drive/MyDrive/data.xlsx'\u001b[0m\u001b[0;34m)\u001b[0m\u001b[0;34m\u001b[0m\u001b[0;34m\u001b[0m\u001b[0m\n\u001b[0m\u001b[1;32m      3\u001b[0m \u001b[0mdata\u001b[0m\u001b[0;34m.\u001b[0m\u001b[0mhead\u001b[0m\u001b[0;34m(\u001b[0m\u001b[0;34m)\u001b[0m\u001b[0;34m\u001b[0m\u001b[0;34m\u001b[0m\u001b[0m\n",
            "\u001b[0;32m/usr/local/lib/python3.7/dist-packages/pandas/util/_decorators.py\u001b[0m in \u001b[0;36mwrapper\u001b[0;34m(*args, **kwargs)\u001b[0m\n\u001b[1;32m    309\u001b[0m                     \u001b[0mstacklevel\u001b[0m\u001b[0;34m=\u001b[0m\u001b[0mstacklevel\u001b[0m\u001b[0;34m,\u001b[0m\u001b[0;34m\u001b[0m\u001b[0;34m\u001b[0m\u001b[0m\n\u001b[1;32m    310\u001b[0m                 )\n\u001b[0;32m--> 311\u001b[0;31m             \u001b[0;32mreturn\u001b[0m \u001b[0mfunc\u001b[0m\u001b[0;34m(\u001b[0m\u001b[0;34m*\u001b[0m\u001b[0margs\u001b[0m\u001b[0;34m,\u001b[0m \u001b[0;34m**\u001b[0m\u001b[0mkwargs\u001b[0m\u001b[0;34m)\u001b[0m\u001b[0;34m\u001b[0m\u001b[0;34m\u001b[0m\u001b[0m\n\u001b[0m\u001b[1;32m    312\u001b[0m \u001b[0;34m\u001b[0m\u001b[0m\n\u001b[1;32m    313\u001b[0m         \u001b[0;32mreturn\u001b[0m \u001b[0mwrapper\u001b[0m\u001b[0;34m\u001b[0m\u001b[0;34m\u001b[0m\u001b[0m\n",
            "\u001b[0;32m/usr/local/lib/python3.7/dist-packages/pandas/io/excel/_base.py\u001b[0m in \u001b[0;36mread_excel\u001b[0;34m(io, sheet_name, header, names, index_col, usecols, squeeze, dtype, engine, converters, true_values, false_values, skiprows, nrows, na_values, keep_default_na, na_filter, verbose, parse_dates, date_parser, thousands, comment, skipfooter, convert_float, mangle_dupe_cols, storage_options)\u001b[0m\n\u001b[1;32m    393\u001b[0m             \u001b[0mskipfooter\u001b[0m\u001b[0;34m=\u001b[0m\u001b[0mskipfooter\u001b[0m\u001b[0;34m,\u001b[0m\u001b[0;34m\u001b[0m\u001b[0;34m\u001b[0m\u001b[0m\n\u001b[1;32m    394\u001b[0m             \u001b[0mconvert_float\u001b[0m\u001b[0;34m=\u001b[0m\u001b[0mconvert_float\u001b[0m\u001b[0;34m,\u001b[0m\u001b[0;34m\u001b[0m\u001b[0;34m\u001b[0m\u001b[0m\n\u001b[0;32m--> 395\u001b[0;31m             \u001b[0mmangle_dupe_cols\u001b[0m\u001b[0;34m=\u001b[0m\u001b[0mmangle_dupe_cols\u001b[0m\u001b[0;34m,\u001b[0m\u001b[0;34m\u001b[0m\u001b[0;34m\u001b[0m\u001b[0m\n\u001b[0m\u001b[1;32m    396\u001b[0m         )\n\u001b[1;32m    397\u001b[0m     \u001b[0;32mfinally\u001b[0m\u001b[0;34m:\u001b[0m\u001b[0;34m\u001b[0m\u001b[0;34m\u001b[0m\u001b[0m\n",
            "\u001b[0;32m/usr/local/lib/python3.7/dist-packages/pandas/io/excel/_base.py\u001b[0m in \u001b[0;36mparse\u001b[0;34m(self, sheet_name, header, names, index_col, usecols, squeeze, converters, true_values, false_values, skiprows, nrows, na_values, parse_dates, date_parser, thousands, comment, skipfooter, convert_float, mangle_dupe_cols, **kwds)\u001b[0m\n\u001b[1;32m   1290\u001b[0m             \u001b[0mconvert_float\u001b[0m\u001b[0;34m=\u001b[0m\u001b[0mconvert_float\u001b[0m\u001b[0;34m,\u001b[0m\u001b[0;34m\u001b[0m\u001b[0;34m\u001b[0m\u001b[0m\n\u001b[1;32m   1291\u001b[0m             \u001b[0mmangle_dupe_cols\u001b[0m\u001b[0;34m=\u001b[0m\u001b[0mmangle_dupe_cols\u001b[0m\u001b[0;34m,\u001b[0m\u001b[0;34m\u001b[0m\u001b[0;34m\u001b[0m\u001b[0m\n\u001b[0;32m-> 1292\u001b[0;31m             \u001b[0;34m**\u001b[0m\u001b[0mkwds\u001b[0m\u001b[0;34m,\u001b[0m\u001b[0;34m\u001b[0m\u001b[0;34m\u001b[0m\u001b[0m\n\u001b[0m\u001b[1;32m   1293\u001b[0m         )\n\u001b[1;32m   1294\u001b[0m \u001b[0;34m\u001b[0m\u001b[0m\n",
            "\u001b[0;32m/usr/local/lib/python3.7/dist-packages/pandas/io/excel/_base.py\u001b[0m in \u001b[0;36mparse\u001b[0;34m(self, sheet_name, header, names, index_col, usecols, squeeze, dtype, true_values, false_values, skiprows, nrows, na_values, verbose, parse_dates, date_parser, thousands, comment, skipfooter, convert_float, mangle_dupe_cols, **kwds)\u001b[0m\n\u001b[1;32m    535\u001b[0m                 \u001b[0msheet\u001b[0m \u001b[0;34m=\u001b[0m \u001b[0mself\u001b[0m\u001b[0;34m.\u001b[0m\u001b[0mget_sheet_by_name\u001b[0m\u001b[0;34m(\u001b[0m\u001b[0masheetname\u001b[0m\u001b[0;34m)\u001b[0m\u001b[0;34m\u001b[0m\u001b[0;34m\u001b[0m\u001b[0m\n\u001b[1;32m    536\u001b[0m             \u001b[0;32melse\u001b[0m\u001b[0;34m:\u001b[0m  \u001b[0;31m# assume an integer if not a string\u001b[0m\u001b[0;34m\u001b[0m\u001b[0;34m\u001b[0m\u001b[0m\n\u001b[0;32m--> 537\u001b[0;31m                 \u001b[0msheet\u001b[0m \u001b[0;34m=\u001b[0m \u001b[0mself\u001b[0m\u001b[0;34m.\u001b[0m\u001b[0mget_sheet_by_index\u001b[0m\u001b[0;34m(\u001b[0m\u001b[0masheetname\u001b[0m\u001b[0;34m)\u001b[0m\u001b[0;34m\u001b[0m\u001b[0;34m\u001b[0m\u001b[0m\n\u001b[0m\u001b[1;32m    538\u001b[0m \u001b[0;34m\u001b[0m\u001b[0m\n\u001b[1;32m    539\u001b[0m             \u001b[0mdata\u001b[0m \u001b[0;34m=\u001b[0m \u001b[0mself\u001b[0m\u001b[0;34m.\u001b[0m\u001b[0mget_sheet_data\u001b[0m\u001b[0;34m(\u001b[0m\u001b[0msheet\u001b[0m\u001b[0;34m,\u001b[0m \u001b[0mconvert_float\u001b[0m\u001b[0;34m)\u001b[0m\u001b[0;34m\u001b[0m\u001b[0;34m\u001b[0m\u001b[0m\n",
            "\u001b[0;32m/usr/local/lib/python3.7/dist-packages/pandas/io/excel/_openpyxl.py\u001b[0m in \u001b[0;36mget_sheet_by_index\u001b[0;34m(self, index)\u001b[0m\n\u001b[1;32m    544\u001b[0m \u001b[0;34m\u001b[0m\u001b[0m\n\u001b[1;32m    545\u001b[0m     \u001b[0;32mdef\u001b[0m \u001b[0mget_sheet_by_index\u001b[0m\u001b[0;34m(\u001b[0m\u001b[0mself\u001b[0m\u001b[0;34m,\u001b[0m \u001b[0mindex\u001b[0m\u001b[0;34m:\u001b[0m \u001b[0mint\u001b[0m\u001b[0;34m)\u001b[0m\u001b[0;34m:\u001b[0m\u001b[0;34m\u001b[0m\u001b[0;34m\u001b[0m\u001b[0m\n\u001b[0;32m--> 546\u001b[0;31m         \u001b[0mself\u001b[0m\u001b[0;34m.\u001b[0m\u001b[0mraise_if_bad_sheet_by_index\u001b[0m\u001b[0;34m(\u001b[0m\u001b[0mindex\u001b[0m\u001b[0;34m)\u001b[0m\u001b[0;34m\u001b[0m\u001b[0;34m\u001b[0m\u001b[0m\n\u001b[0m\u001b[1;32m    547\u001b[0m         \u001b[0;32mreturn\u001b[0m \u001b[0mself\u001b[0m\u001b[0;34m.\u001b[0m\u001b[0mbook\u001b[0m\u001b[0;34m.\u001b[0m\u001b[0mworksheets\u001b[0m\u001b[0;34m[\u001b[0m\u001b[0mindex\u001b[0m\u001b[0;34m]\u001b[0m\u001b[0;34m\u001b[0m\u001b[0;34m\u001b[0m\u001b[0m\n\u001b[1;32m    548\u001b[0m \u001b[0;34m\u001b[0m\u001b[0m\n",
            "\u001b[0;32m/usr/local/lib/python3.7/dist-packages/pandas/io/excel/_base.py\u001b[0m in \u001b[0;36mraise_if_bad_sheet_by_index\u001b[0;34m(self, index)\u001b[0m\n\u001b[1;32m    467\u001b[0m         \u001b[0;32mif\u001b[0m \u001b[0mindex\u001b[0m \u001b[0;34m>=\u001b[0m \u001b[0mn_sheets\u001b[0m\u001b[0;34m:\u001b[0m\u001b[0;34m\u001b[0m\u001b[0;34m\u001b[0m\u001b[0m\n\u001b[1;32m    468\u001b[0m             raise ValueError(\n\u001b[0;32m--> 469\u001b[0;31m                 \u001b[0;34mf\"Worksheet index {index} is invalid, {n_sheets} worksheets found\"\u001b[0m\u001b[0;34m\u001b[0m\u001b[0;34m\u001b[0m\u001b[0m\n\u001b[0m\u001b[1;32m    470\u001b[0m             )\n\u001b[1;32m    471\u001b[0m \u001b[0;34m\u001b[0m\u001b[0m\n",
            "\u001b[0;31mValueError\u001b[0m: Worksheet index 0 is invalid, 0 worksheets found"
          ]
        }
      ],
      "source": [
        "#data = pd.read_excel('data.xls')\n",
        "data = pd.read_excel('/content/drive/MyDrive/data.xlsx')\n",
        "data.head()"
      ]
    },
    {
      "cell_type": "code",
      "execution_count": null,
      "id": "a1e5cbf1",
      "metadata": {
        "id": "a1e5cbf1"
      },
      "outputs": [],
      "source": [
        "final_result = {}\n",
        "for i in list(data.index):\n",
        "    for k in list(dict_with_data.keys()):\n",
        "        if data.iloc[i]['Имя'] in dict_with_data[k]:\n",
        "            final_result[data.iloc[i]['Номер']] = k\n",
        "    \n",
        "    if data.iloc[i]['Номер'] not in list(final_result.keys()):\n",
        "        final_result[i]=''"
      ]
    },
    {
      "cell_type": "code",
      "execution_count": null,
      "id": "a607afb5",
      "metadata": {
        "id": "a607afb5",
        "outputId": "a6cfcede-149b-415b-b73c-e16f228a74fc"
      },
      "outputs": [
        {
          "data": {
            "text/plain": [
              "{1: '1',\n",
              " 2: '3',\n",
              " 3: '3',\n",
              " 4: '3',\n",
              " 5: '1',\n",
              " 6: '1',\n",
              " 7: '1',\n",
              " 8: '1',\n",
              " 9: '1',\n",
              " 10: '4',\n",
              " 11: '4',\n",
              " 12: '2',\n",
              " 13: '2',\n",
              " 14: '',\n",
              " 16: '3',\n",
              " 17: '',\n",
              " 19: '3',\n",
              " 20: '',\n",
              " 21: '',\n",
              " 23: '1',\n",
              " 24: '4',\n",
              " 25: '2',\n",
              " 26: '1',\n",
              " 27: '4',\n",
              " 28: '3',\n",
              " 29: '4',\n",
              " 30: '1',\n",
              " 31: '1',\n",
              " 32: '2',\n",
              " 33: '2',\n",
              " 34: '1',\n",
              " 35: '3',\n",
              " 36: '2',\n",
              " 37: '2',\n",
              " 38: '4',\n",
              " 39: '1',\n",
              " 40: '',\n",
              " 41: '',\n",
              " 43: '3',\n",
              " 44: '3',\n",
              " 45: '3',\n",
              " 46: '2',\n",
              " 47: '2',\n",
              " 48: '2',\n",
              " 49: 5,\n",
              " 50: '2',\n",
              " 51: '4',\n",
              " 52: '2',\n",
              " 53: '2',\n",
              " 54: '3',\n",
              " 55: '3',\n",
              " 56: '3',\n",
              " 57: '2',\n",
              " 58: '',\n",
              " 60: '2',\n",
              " 61: '1',\n",
              " 62: '2',\n",
              " 63: '2',\n",
              " 64: '2',\n",
              " 65: '4',\n",
              " 66: '3',\n",
              " 67: '2',\n",
              " 68: '2',\n",
              " 69: '2',\n",
              " 70: 5,\n",
              " 71: '2',\n",
              " 72: 5,\n",
              " 73: '2',\n",
              " 74: '3',\n",
              " 75: '3',\n",
              " 76: '',\n",
              " 77: '',\n",
              " 78: '',\n",
              " 79: '',\n",
              " 83: '',\n",
              " 81: '',\n",
              " 87: 5,\n",
              " 84: '',\n",
              " 85: ''}"
            ]
          },
          "execution_count": 61,
          "metadata": {},
          "output_type": "execute_result"
        }
      ],
      "source": [
        "final_result"
      ]
    },
    {
      "cell_type": "code",
      "execution_count": null,
      "id": "7a21dc26",
      "metadata": {
        "id": "7a21dc26"
      },
      "outputs": [],
      "source": []
    }
  ],
  "metadata": {
    "kernelspec": {
      "display_name": "Python 3",
      "language": "python",
      "name": "python3"
    },
    "language_info": {
      "codemirror_mode": {
        "name": "ipython",
        "version": 3
      },
      "file_extension": ".py",
      "mimetype": "text/x-python",
      "name": "python",
      "nbconvert_exporter": "python",
      "pygments_lexer": "ipython3",
      "version": "3.8.8"
    },
    "colab": {
      "provenance": []
    }
  },
  "nbformat": 4,
  "nbformat_minor": 5
}